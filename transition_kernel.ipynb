{
 "cells": [
  {
   "cell_type": "code",
   "execution_count": 213,
   "metadata": {},
   "outputs": [],
   "source": [
    "import numpy as np\n",
    "from itertools import product\n",
    "from scipy.stats import norm\n",
    "from scipy.special import logsumexp\n",
    "from numpy import linalg as LA\n"
   ]
  },
  {
   "cell_type": "code",
   "execution_count": 168,
   "metadata": {},
   "outputs": [],
   "source": [
    "def data_generation(T,p0,mu,sig,n_step):\n",
    "    \n",
    "    xs = np.zeros(n_step)\n",
    "    zs = np.zeros(n_step,dtype='int')\n",
    "    for i in range(n_step):\n",
    "        if i==0:zs[i] = np.random.choice(np.arange(len(p0)),replace=False,p = p0)\n",
    "        else: zs[i] = np.random.choice(np.arange(len(p0)),replace=False,p = T[zs[i-1]])\n",
    "        xs[i] = np.random.randn()*sig+mu[zs[i]]\n",
    "    return zs,xs"
   ]
  },
  {
   "cell_type": "code",
   "execution_count": 203,
   "metadata": {},
   "outputs": [],
   "source": [
    "# joint_loglik = log p(z_0)\\sum logp(z_i|z_i-1) \\sum logp(x_t|z_t)\n",
    "def joint_loglik(T,p0,mu,sig,x,z): \n",
    "    return np.sum(np.log(p0[z]))+np.sum(norm.logpdf(x,loc = mu[z],scale = sig))\n",
    "# transition kernel of MH\n",
    "# Suppose q(z|z') =q(z'|z) = 1/n (uniformly random)\n",
    "def transition_kernel(T,p0,mu,sig,x):\n",
    "    n_step = len(x)\n",
    "    k = len(p0)\n",
    "    # transition kernel size k^t * k^t\n",
    "    n = k**n_step\n",
    "    print ('transition kernel size {}*{}'.format(k**n_step,k**n_step))\n",
    "    states = np.vstack(list(product(range(k),repeat = n_step)))\n",
    "    assert len(states)==n\n",
    "    t_mh = np.ones([n,n])*-np.inf\n",
    "    for i in range(n):\n",
    "        for j in range(i+1,n):\n",
    "            # calculate logp(z,x)+logq(z|z')-logp(z',x)-logq(z'|z)\n",
    "            diff = joint_loglik(T,p0,mu,sig,x,states[i])-joint_loglik(T,p0,mu,sig,x,states[j])\n",
    "            t_mh[i][j] = np.log(1./n)+np.min([0,diff])\n",
    "            t_mh[j][i] = np.log(1./n)+np.min([0,-diff])\n",
    "    for i in range(n):\n",
    "        t_mh[i][i] = np.log(1-np.exp(logsumexp(t_mh[:,i])))\n",
    "    return t_mh"
   ]
  },
  {
   "cell_type": "code",
   "execution_count": 220,
   "metadata": {},
   "outputs": [
    {
     "name": "stdout",
     "output_type": "stream",
     "text": [
      "transition kernel size 4*4\n",
      "eigen_vs [1.         0.74837243 0.47670517 0.24851116] omega 0.7483724256174284\n",
      "transition kernel size 4*4\n",
      "eigen_vs [1.         0.7287777  0.37134896 0.23598822] omega 0.7287777004935975\n",
      "transition kernel size 4*4\n",
      "eigen_vs [1.         0.61533297 0.49945185 0.1156276 ] omega 0.6153329720201501\n",
      "transition kernel size 4*4\n",
      "eigen_vs [1.         0.74759169 0.31935837 0.24860191] omega 0.7475916896131576\n",
      "transition kernel size 4*4\n",
      "eigen_vs [1.         0.74121644 0.49945706 0.24123547] omega 0.7412164385072058\n",
      "transition kernel size 4*4\n",
      "eigen_vs [1.         0.70152814 0.49082686 0.20324375] omega 0.7015281428333014\n",
      "transition kernel size 4*4\n",
      "eigen_vs [1.         0.68825434 0.49899885 0.18850062] omega 0.6882543387791663\n",
      "transition kernel size 4*4\n",
      "eigen_vs [1.         0.71810049 0.45141415 0.22329117] omega 0.7181004895907243\n",
      "transition kernel size 4*4\n",
      "eigen_vs [1.         0.68960326 0.49953063 0.18971644] omega 0.6896032582481543\n",
      "transition kernel size 4*4\n",
      "eigen_vs [1.         0.74095451 0.45658973 0.2422928 ] omega 0.7409545127799289\n"
     ]
    }
   ],
   "source": [
    "# transition T for latent variable z0\n",
    "T = np.array([[0.1,0.9],[0.9,0.1]])\n",
    "# initial distribution\n",
    "p0 = np.array([0.3,0.7])\n",
    "# p(x_t|z_t)\n",
    "mu = np.array([-1.,1.])\n",
    "sig = np.sqrt(0.5)\n",
    "\n",
    "n_step = 2\n",
    "\n",
    "for _ in range(10):\n",
    "\n",
    "    # time length\n",
    "    zs,xs = data_generation(T,p0,mu,sig,n_step)\n",
    "\n",
    "    n_step = 2\n",
    "    t_mh=transition_kernel(T,p0,mu,sig,xs)\n",
    "    #### Column sum to 1\n",
    "    assert np.sum(np.exp(t_mh),axis=0).all()==1.\n",
    "\n",
    "    w, v = LA.eig(np.exp(t_mh))\n",
    "    w = np.sort(w)[::-1]\n",
    "    print ('eigen_vs',w,'omega',w[1])"
   ]
  },
  {
   "cell_type": "code",
   "execution_count": null,
   "metadata": {},
   "outputs": [],
   "source": []
  }
 ],
 "metadata": {
  "kernelspec": {
   "display_name": "Python 3",
   "language": "python",
   "name": "python3"
  },
  "language_info": {
   "codemirror_mode": {
    "name": "ipython",
    "version": 3
   },
   "file_extension": ".py",
   "mimetype": "text/x-python",
   "name": "python",
   "nbconvert_exporter": "python",
   "pygments_lexer": "ipython3",
   "version": "3.7.7"
  }
 },
 "nbformat": 4,
 "nbformat_minor": 4
}
